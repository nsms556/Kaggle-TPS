{
 "cells": [
  {
   "cell_type": "markdown",
   "metadata": {},
   "source": [
    "# Tabular Playground Series - Nov 2022\n",
    "  - Practice your ML skills on this approachable dataset!\n",
    "  - https://www.kaggle.com/competitions/tabular-playground-series-nov-2022"
   ]
  },
  {
   "cell_type": "markdown",
   "metadata": {},
   "source": [
    "# 0. 패키지"
   ]
  },
  {
   "cell_type": "code",
   "execution_count": 1,
   "metadata": {},
   "outputs": [],
   "source": [
    "import os\n",
    "import time\n",
    "import requests\n",
    "\n",
    "from tqdm import tqdm\n",
    "\n",
    "import numpy as np\n",
    "import pandas as pd\n",
    "import matplotlib.pyplot as plt\n",
    "\n",
    "from sklearn.metrics import log_loss"
   ]
  },
  {
   "cell_type": "code",
   "execution_count": 2,
   "metadata": {},
   "outputs": [
    {
     "name": "stderr",
     "output_type": "stream",
     "text": [
      "c:\\Users\\USER\\anaconda3\\envs\\automl\\lib\\site-packages\\tqdm\\auto.py:22: TqdmWarning: IProgress not found. Please update jupyter and ipywidgets. See https://ipywidgets.readthedocs.io/en/stable/user_install.html\n",
      "  from .autonotebook import tqdm as notebook_tqdm\n"
     ]
    }
   ],
   "source": [
    "import torch\n",
    "\n",
    "from lightautoml.automl.presets.tabular_presets import TabularAutoML, TabularUtilizedAutoML\n",
    "from lightautoml.tasks import Task\n",
    "from lightautoml.report.report_deco import ReportDeco"
   ]
  },
  {
   "cell_type": "markdown",
   "metadata": {},
   "source": [
    "## 0.1 파라미터"
   ]
  },
  {
   "cell_type": "code",
   "execution_count": 3,
   "metadata": {},
   "outputs": [],
   "source": [
    "N_THREADS = 2\n",
    "N_FOLDS = 5\n",
    "RANDOM_STATE = 22\n",
    "TEST_SIZE = 0.2\n",
    "TIMEOUT = 36000\n",
    "TARGET_NAME = 'label'\n",
    "\n",
    "device = 'cuda' if torch.cuda.is_available() else 'cpu'"
   ]
  },
  {
   "cell_type": "code",
   "execution_count": 4,
   "metadata": {},
   "outputs": [],
   "source": [
    "np.random.seed(RANDOM_STATE)\n",
    "torch.set_num_threads(N_THREADS)"
   ]
  },
  {
   "cell_type": "markdown",
   "metadata": {},
   "source": [
    "# 1. 데이터셋"
   ]
  },
  {
   "cell_type": "code",
   "execution_count": 5,
   "metadata": {},
   "outputs": [],
   "source": [
    "INPUT_DIR = 'datasets/'\n",
    "SUBS_DIR = INPUT_DIR + 'submission_files/'"
   ]
  },
  {
   "cell_type": "code",
   "execution_count": 6,
   "metadata": {},
   "outputs": [
    {
     "name": "stdout",
     "output_type": "stream",
     "text": [
      "(20000, 2)\n"
     ]
    }
   ],
   "source": [
    "labels = pd.read_csv(INPUT_DIR + 'train_labels.csv')\n",
    "print(labels.shape)"
   ]
  },
  {
   "cell_type": "code",
   "execution_count": 7,
   "metadata": {},
   "outputs": [
    {
     "name": "stdout",
     "output_type": "stream",
     "text": [
      "(20000, 2)\n"
     ]
    }
   ],
   "source": [
    "submission = pd.read_csv(INPUT_DIR + 'sample_submission.csv')\n",
    "print(submission.shape)"
   ]
  },
  {
   "cell_type": "code",
   "execution_count": 8,
   "metadata": {},
   "outputs": [
    {
     "name": "stderr",
     "output_type": "stream",
     "text": [
      "100%|██████████| 5000/5000 [01:25<00:00, 58.14it/s]\n"
     ]
    }
   ],
   "source": [
    "full_data = [pd.DataFrame(list(range(40000)), columns=['id'])]\n",
    "for i, fname in enumerate(tqdm(sorted(os.listdir(SUBS_DIR)))) :\n",
    "    full_data.append(pd.Series(np.clip(pd.read_csv(SUBS_DIR + fname)['pred'].values, 1e-6, 1 - 1e-6), name=f'sub_{i}'))\n",
    "full_data.append(labels[TARGET_NAME].astype(np.int32))\n",
    "\n",
    "full_data = pd.concat(full_data, axis=1)"
   ]
  },
  {
   "cell_type": "code",
   "execution_count": 9,
   "metadata": {},
   "outputs": [
    {
     "name": "stdout",
     "output_type": "stream",
     "text": [
      "(20000, 5002) (20000, 5001)\n"
     ]
    }
   ],
   "source": [
    "train_data = full_data.iloc[:labels.shape[0], :]\n",
    "test_data = full_data.iloc[labels.shape[0]:, :].reset_index(drop=True).drop('label', axis=1)\n",
    "\n",
    "print(train_data.shape, test_data.shape)"
   ]
  },
  {
   "cell_type": "code",
   "execution_count": 9,
   "metadata": {},
   "outputs": [
    {
     "data": {
      "text/html": [
       "<div>\n",
       "<style scoped>\n",
       "    .dataframe tbody tr th:only-of-type {\n",
       "        vertical-align: middle;\n",
       "    }\n",
       "\n",
       "    .dataframe tbody tr th {\n",
       "        vertical-align: top;\n",
       "    }\n",
       "\n",
       "    .dataframe thead th {\n",
       "        text-align: right;\n",
       "    }\n",
       "</style>\n",
       "<table border=\"1\" class=\"dataframe\">\n",
       "  <thead>\n",
       "    <tr style=\"text-align: right;\">\n",
       "      <th></th>\n",
       "      <th>id</th>\n",
       "      <th>sub_0</th>\n",
       "      <th>sub_1</th>\n",
       "      <th>sub_2</th>\n",
       "      <th>sub_3</th>\n",
       "      <th>sub_4</th>\n",
       "      <th>sub_5</th>\n",
       "      <th>sub_6</th>\n",
       "      <th>sub_7</th>\n",
       "      <th>sub_8</th>\n",
       "      <th>...</th>\n",
       "      <th>sub_4991</th>\n",
       "      <th>sub_4992</th>\n",
       "      <th>sub_4993</th>\n",
       "      <th>sub_4994</th>\n",
       "      <th>sub_4995</th>\n",
       "      <th>sub_4996</th>\n",
       "      <th>sub_4997</th>\n",
       "      <th>sub_4998</th>\n",
       "      <th>sub_4999</th>\n",
       "      <th>label</th>\n",
       "    </tr>\n",
       "  </thead>\n",
       "  <tbody>\n",
       "    <tr>\n",
       "      <th>0</th>\n",
       "      <td>0</td>\n",
       "      <td>0.709336</td>\n",
       "      <td>0.799007</td>\n",
       "      <td>0.851891</td>\n",
       "      <td>0.537158</td>\n",
       "      <td>0.623930</td>\n",
       "      <td>0.705970</td>\n",
       "      <td>0.503437</td>\n",
       "      <td>0.633185</td>\n",
       "      <td>0.641550</td>\n",
       "      <td>...</td>\n",
       "      <td>0.750250</td>\n",
       "      <td>0.663370</td>\n",
       "      <td>0.739333</td>\n",
       "      <td>0.822384</td>\n",
       "      <td>0.749498</td>\n",
       "      <td>0.729800</td>\n",
       "      <td>0.867847</td>\n",
       "      <td>0.745888</td>\n",
       "      <td>0.787</td>\n",
       "      <td>0.0</td>\n",
       "    </tr>\n",
       "    <tr>\n",
       "      <th>1</th>\n",
       "      <td>1</td>\n",
       "      <td>0.452988</td>\n",
       "      <td>0.364453</td>\n",
       "      <td>0.567582</td>\n",
       "      <td>0.354468</td>\n",
       "      <td>0.513818</td>\n",
       "      <td>0.584119</td>\n",
       "      <td>0.454809</td>\n",
       "      <td>0.238501</td>\n",
       "      <td>0.472171</td>\n",
       "      <td>...</td>\n",
       "      <td>0.794052</td>\n",
       "      <td>0.721298</td>\n",
       "      <td>0.804369</td>\n",
       "      <td>0.620626</td>\n",
       "      <td>0.733606</td>\n",
       "      <td>0.816942</td>\n",
       "      <td>0.814229</td>\n",
       "      <td>0.598331</td>\n",
       "      <td>0.547</td>\n",
       "      <td>1.0</td>\n",
       "    </tr>\n",
       "    <tr>\n",
       "      <th>2</th>\n",
       "      <td>2</td>\n",
       "      <td>0.675462</td>\n",
       "      <td>0.842260</td>\n",
       "      <td>0.800013</td>\n",
       "      <td>0.525229</td>\n",
       "      <td>0.692071</td>\n",
       "      <td>0.715418</td>\n",
       "      <td>0.651008</td>\n",
       "      <td>0.609124</td>\n",
       "      <td>0.691198</td>\n",
       "      <td>...</td>\n",
       "      <td>0.779859</td>\n",
       "      <td>0.865657</td>\n",
       "      <td>0.828493</td>\n",
       "      <td>0.763010</td>\n",
       "      <td>0.802883</td>\n",
       "      <td>0.806891</td>\n",
       "      <td>0.896058</td>\n",
       "      <td>0.855776</td>\n",
       "      <td>0.667</td>\n",
       "      <td>1.0</td>\n",
       "    </tr>\n",
       "    <tr>\n",
       "      <th>3</th>\n",
       "      <td>3</td>\n",
       "      <td>0.481046</td>\n",
       "      <td>0.577118</td>\n",
       "      <td>0.683032</td>\n",
       "      <td>0.541356</td>\n",
       "      <td>0.630088</td>\n",
       "      <td>0.664514</td>\n",
       "      <td>0.413373</td>\n",
       "      <td>0.508210</td>\n",
       "      <td>0.526140</td>\n",
       "      <td>...</td>\n",
       "      <td>0.799698</td>\n",
       "      <td>0.800130</td>\n",
       "      <td>0.716604</td>\n",
       "      <td>0.603779</td>\n",
       "      <td>0.708499</td>\n",
       "      <td>0.844837</td>\n",
       "      <td>0.853057</td>\n",
       "      <td>0.850657</td>\n",
       "      <td>0.622</td>\n",
       "      <td>1.0</td>\n",
       "    </tr>\n",
       "    <tr>\n",
       "      <th>4</th>\n",
       "      <td>4</td>\n",
       "      <td>0.957339</td>\n",
       "      <td>0.910337</td>\n",
       "      <td>0.917322</td>\n",
       "      <td>0.874487</td>\n",
       "      <td>0.787595</td>\n",
       "      <td>0.854273</td>\n",
       "      <td>0.843846</td>\n",
       "      <td>0.876749</td>\n",
       "      <td>0.821128</td>\n",
       "      <td>...</td>\n",
       "      <td>0.900150</td>\n",
       "      <td>0.960911</td>\n",
       "      <td>0.906037</td>\n",
       "      <td>0.961240</td>\n",
       "      <td>0.935608</td>\n",
       "      <td>0.889757</td>\n",
       "      <td>0.978505</td>\n",
       "      <td>0.953681</td>\n",
       "      <td>0.934</td>\n",
       "      <td>0.0</td>\n",
       "    </tr>\n",
       "  </tbody>\n",
       "</table>\n",
       "<p>5 rows × 5002 columns</p>\n",
       "</div>"
      ],
      "text/plain": [
       "   id     sub_0     sub_1     sub_2     sub_3     sub_4     sub_5     sub_6  \\\n",
       "0   0  0.709336  0.799007  0.851891  0.537158  0.623930  0.705970  0.503437   \n",
       "1   1  0.452988  0.364453  0.567582  0.354468  0.513818  0.584119  0.454809   \n",
       "2   2  0.675462  0.842260  0.800013  0.525229  0.692071  0.715418  0.651008   \n",
       "3   3  0.481046  0.577118  0.683032  0.541356  0.630088  0.664514  0.413373   \n",
       "4   4  0.957339  0.910337  0.917322  0.874487  0.787595  0.854273  0.843846   \n",
       "\n",
       "      sub_7     sub_8  ...  sub_4991  sub_4992  sub_4993  sub_4994  sub_4995  \\\n",
       "0  0.633185  0.641550  ...  0.750250  0.663370  0.739333  0.822384  0.749498   \n",
       "1  0.238501  0.472171  ...  0.794052  0.721298  0.804369  0.620626  0.733606   \n",
       "2  0.609124  0.691198  ...  0.779859  0.865657  0.828493  0.763010  0.802883   \n",
       "3  0.508210  0.526140  ...  0.799698  0.800130  0.716604  0.603779  0.708499   \n",
       "4  0.876749  0.821128  ...  0.900150  0.960911  0.906037  0.961240  0.935608   \n",
       "\n",
       "   sub_4996  sub_4997  sub_4998  sub_4999  label  \n",
       "0  0.729800  0.867847  0.745888     0.787    0.0  \n",
       "1  0.816942  0.814229  0.598331     0.547    1.0  \n",
       "2  0.806891  0.896058  0.855776     0.667    1.0  \n",
       "3  0.844837  0.853057  0.850657     0.622    1.0  \n",
       "4  0.889757  0.978505  0.953681     0.934    0.0  \n",
       "\n",
       "[5 rows x 5002 columns]"
      ]
     },
     "execution_count": 9,
     "metadata": {},
     "output_type": "execute_result"
    }
   ],
   "source": [
    "train_data.head()"
   ]
  },
  {
   "cell_type": "code",
   "execution_count": 10,
   "metadata": {},
   "outputs": [
    {
     "data": {
      "text/html": [
       "<div>\n",
       "<style scoped>\n",
       "    .dataframe tbody tr th:only-of-type {\n",
       "        vertical-align: middle;\n",
       "    }\n",
       "\n",
       "    .dataframe tbody tr th {\n",
       "        vertical-align: top;\n",
       "    }\n",
       "\n",
       "    .dataframe thead th {\n",
       "        text-align: right;\n",
       "    }\n",
       "</style>\n",
       "<table border=\"1\" class=\"dataframe\">\n",
       "  <thead>\n",
       "    <tr style=\"text-align: right;\">\n",
       "      <th></th>\n",
       "      <th>id</th>\n",
       "      <th>sub_0</th>\n",
       "      <th>sub_1</th>\n",
       "      <th>sub_2</th>\n",
       "      <th>sub_3</th>\n",
       "      <th>sub_4</th>\n",
       "      <th>sub_5</th>\n",
       "      <th>sub_6</th>\n",
       "      <th>sub_7</th>\n",
       "      <th>sub_8</th>\n",
       "      <th>...</th>\n",
       "      <th>sub_4990</th>\n",
       "      <th>sub_4991</th>\n",
       "      <th>sub_4992</th>\n",
       "      <th>sub_4993</th>\n",
       "      <th>sub_4994</th>\n",
       "      <th>sub_4995</th>\n",
       "      <th>sub_4996</th>\n",
       "      <th>sub_4997</th>\n",
       "      <th>sub_4998</th>\n",
       "      <th>sub_4999</th>\n",
       "    </tr>\n",
       "  </thead>\n",
       "  <tbody>\n",
       "    <tr>\n",
       "      <th>0</th>\n",
       "      <td>20000</td>\n",
       "      <td>0.640707</td>\n",
       "      <td>0.611468</td>\n",
       "      <td>0.795757</td>\n",
       "      <td>0.684337</td>\n",
       "      <td>0.700504</td>\n",
       "      <td>0.720927</td>\n",
       "      <td>0.483421</td>\n",
       "      <td>0.635256</td>\n",
       "      <td>0.744267</td>\n",
       "      <td>...</td>\n",
       "      <td>0.890052</td>\n",
       "      <td>0.801783</td>\n",
       "      <td>0.838627</td>\n",
       "      <td>0.800230</td>\n",
       "      <td>0.801438</td>\n",
       "      <td>0.865260</td>\n",
       "      <td>0.779422</td>\n",
       "      <td>0.924805</td>\n",
       "      <td>0.846385</td>\n",
       "      <td>0.839</td>\n",
       "    </tr>\n",
       "    <tr>\n",
       "      <th>1</th>\n",
       "      <td>20001</td>\n",
       "      <td>0.636904</td>\n",
       "      <td>0.723449</td>\n",
       "      <td>0.842078</td>\n",
       "      <td>0.678966</td>\n",
       "      <td>0.678660</td>\n",
       "      <td>0.709361</td>\n",
       "      <td>0.861326</td>\n",
       "      <td>0.860177</td>\n",
       "      <td>0.593145</td>\n",
       "      <td>...</td>\n",
       "      <td>0.722530</td>\n",
       "      <td>0.785676</td>\n",
       "      <td>0.713539</td>\n",
       "      <td>0.743692</td>\n",
       "      <td>0.832114</td>\n",
       "      <td>0.833460</td>\n",
       "      <td>0.801346</td>\n",
       "      <td>0.813490</td>\n",
       "      <td>0.802177</td>\n",
       "      <td>0.507</td>\n",
       "    </tr>\n",
       "    <tr>\n",
       "      <th>2</th>\n",
       "      <td>20002</td>\n",
       "      <td>0.392496</td>\n",
       "      <td>0.330492</td>\n",
       "      <td>0.542698</td>\n",
       "      <td>0.391343</td>\n",
       "      <td>0.498312</td>\n",
       "      <td>0.560324</td>\n",
       "      <td>0.337060</td>\n",
       "      <td>0.293192</td>\n",
       "      <td>0.456379</td>\n",
       "      <td>...</td>\n",
       "      <td>0.591669</td>\n",
       "      <td>0.599184</td>\n",
       "      <td>0.569485</td>\n",
       "      <td>0.512785</td>\n",
       "      <td>0.679277</td>\n",
       "      <td>0.503172</td>\n",
       "      <td>0.555770</td>\n",
       "      <td>0.564360</td>\n",
       "      <td>0.583173</td>\n",
       "      <td>0.555</td>\n",
       "    </tr>\n",
       "    <tr>\n",
       "      <th>3</th>\n",
       "      <td>20003</td>\n",
       "      <td>0.588658</td>\n",
       "      <td>0.558800</td>\n",
       "      <td>0.591969</td>\n",
       "      <td>0.289922</td>\n",
       "      <td>0.523674</td>\n",
       "      <td>0.630457</td>\n",
       "      <td>0.551588</td>\n",
       "      <td>0.387767</td>\n",
       "      <td>0.535254</td>\n",
       "      <td>...</td>\n",
       "      <td>0.767875</td>\n",
       "      <td>0.701790</td>\n",
       "      <td>0.691961</td>\n",
       "      <td>0.625830</td>\n",
       "      <td>0.709976</td>\n",
       "      <td>0.628978</td>\n",
       "      <td>0.626589</td>\n",
       "      <td>0.676782</td>\n",
       "      <td>0.677209</td>\n",
       "      <td>0.513</td>\n",
       "    </tr>\n",
       "    <tr>\n",
       "      <th>4</th>\n",
       "      <td>20004</td>\n",
       "      <td>0.783603</td>\n",
       "      <td>0.416023</td>\n",
       "      <td>0.043050</td>\n",
       "      <td>0.244914</td>\n",
       "      <td>0.614647</td>\n",
       "      <td>0.600091</td>\n",
       "      <td>0.348334</td>\n",
       "      <td>0.203046</td>\n",
       "      <td>0.542674</td>\n",
       "      <td>...</td>\n",
       "      <td>0.869603</td>\n",
       "      <td>0.821132</td>\n",
       "      <td>0.742231</td>\n",
       "      <td>0.891385</td>\n",
       "      <td>0.716356</td>\n",
       "      <td>0.804243</td>\n",
       "      <td>0.882422</td>\n",
       "      <td>0.790921</td>\n",
       "      <td>0.699345</td>\n",
       "      <td>0.803</td>\n",
       "    </tr>\n",
       "  </tbody>\n",
       "</table>\n",
       "<p>5 rows × 5001 columns</p>\n",
       "</div>"
      ],
      "text/plain": [
       "      id     sub_0     sub_1     sub_2     sub_3     sub_4     sub_5  \\\n",
       "0  20000  0.640707  0.611468  0.795757  0.684337  0.700504  0.720927   \n",
       "1  20001  0.636904  0.723449  0.842078  0.678966  0.678660  0.709361   \n",
       "2  20002  0.392496  0.330492  0.542698  0.391343  0.498312  0.560324   \n",
       "3  20003  0.588658  0.558800  0.591969  0.289922  0.523674  0.630457   \n",
       "4  20004  0.783603  0.416023  0.043050  0.244914  0.614647  0.600091   \n",
       "\n",
       "      sub_6     sub_7     sub_8  ...  sub_4990  sub_4991  sub_4992  sub_4993  \\\n",
       "0  0.483421  0.635256  0.744267  ...  0.890052  0.801783  0.838627  0.800230   \n",
       "1  0.861326  0.860177  0.593145  ...  0.722530  0.785676  0.713539  0.743692   \n",
       "2  0.337060  0.293192  0.456379  ...  0.591669  0.599184  0.569485  0.512785   \n",
       "3  0.551588  0.387767  0.535254  ...  0.767875  0.701790  0.691961  0.625830   \n",
       "4  0.348334  0.203046  0.542674  ...  0.869603  0.821132  0.742231  0.891385   \n",
       "\n",
       "   sub_4994  sub_4995  sub_4996  sub_4997  sub_4998  sub_4999  \n",
       "0  0.801438  0.865260  0.779422  0.924805  0.846385     0.839  \n",
       "1  0.832114  0.833460  0.801346  0.813490  0.802177     0.507  \n",
       "2  0.679277  0.503172  0.555770  0.564360  0.583173     0.555  \n",
       "3  0.709976  0.628978  0.626589  0.676782  0.677209     0.513  \n",
       "4  0.716356  0.804243  0.882422  0.790921  0.699345     0.803  \n",
       "\n",
       "[5 rows x 5001 columns]"
      ]
     },
     "execution_count": 10,
     "metadata": {},
     "output_type": "execute_result"
    }
   ],
   "source": [
    "test_data.head()"
   ]
  },
  {
   "cell_type": "code",
   "execution_count": 10,
   "metadata": {},
   "outputs": [
    {
     "name": "stderr",
     "output_type": "stream",
     "text": [
      "C:\\Users\\USER\\AppData\\Local\\Temp\\ipykernel_8824\\3864273294.py:2: SettingWithCopyWarning: \n",
      "A value is trying to be set on a copy of a slice from a DataFrame.\n",
      "Try using .loc[row_indexer,col_indexer] = value instead\n",
      "\n",
      "See the caveats in the documentation: https://pandas.pydata.org/pandas-docs/stable/user_guide/indexing.html#returning-a-view-versus-a-copy\n",
      "  train_data['mean_pred'] = tmp.mean(1)\n",
      "C:\\Users\\USER\\AppData\\Local\\Temp\\ipykernel_8824\\3864273294.py:3: SettingWithCopyWarning: \n",
      "A value is trying to be set on a copy of a slice from a DataFrame.\n",
      "Try using .loc[row_indexer,col_indexer] = value instead\n",
      "\n",
      "See the caveats in the documentation: https://pandas.pydata.org/pandas-docs/stable/user_guide/indexing.html#returning-a-view-versus-a-copy\n",
      "  train_data['std_pred'] = tmp.std(1)\n"
     ]
    }
   ],
   "source": [
    "tmp = train_data.drop(columns=['id', 'label'])\n",
    "train_data['mean_pred'] = tmp.mean(1)\n",
    "train_data['std_pred'] = tmp.std(1)\n",
    "\n",
    "tmp = test_data.drop('id', axis=1)\n",
    "test_data['mean_pred'] = tmp.mean(1)\n",
    "test_data['std_pred'] = tmp.std(1)"
   ]
  },
  {
   "cell_type": "code",
   "execution_count": 11,
   "metadata": {},
   "outputs": [
    {
     "data": {
      "text/plain": [
       "((20000, 300), (20000, 299))"
      ]
     },
     "execution_count": 11,
     "metadata": {},
     "output_type": "execute_result"
    }
   ],
   "source": [
    "useful = ['sub_100', 'sub_1083', 'sub_1108', 'sub_114', 'sub_1165', 'sub_1174', 'sub_121', 'sub_1217', 'sub_122', 'sub_1242', 'sub_131', 'sub_132', 'sub_1359', 'sub_136', 'sub_1367', \n",
    "          'sub_1394', 'sub_1396', 'sub_1414', 'sub_1419', 'sub_144', 'sub_1447', 'sub_145', 'sub_1473', 'sub_1477', 'sub_1480', 'sub_151', 'sub_1511', 'sub_152', 'sub_1524', 'sub_1526', 'sub_1556', \n",
    "          'sub_158', 'sub_1584', 'sub_1598', 'sub_1609', 'sub_1614', 'sub_1694', 'sub_1702', 'sub_1719', 'sub_1722', 'sub_1735', 'sub_175', 'sub_1753', 'sub_1759', 'sub_1785', 'sub_180', 'sub_1803', \n",
    "          'sub_181', 'sub_1811', 'sub_1813', 'sub_1850', 'sub_1861', 'sub_1874', 'sub_189', 'sub_1891', 'sub_190', 'sub_1905', 'sub_1945', 'sub_1963', 'sub_197', 'sub_1974', 'sub_1975', 'sub_1984', \n",
    "          'sub_1987', 'sub_2', 'sub_2020', 'sub_2044', 'sub_2055', 'sub_2124', 'sub_2140', 'sub_2148', 'sub_2163', 'sub_2176', 'sub_226', 'sub_2279', 'sub_2292', 'sub_230', 'sub_2316', 'sub_2327', \n",
    "          'sub_2334', 'sub_2338', 'sub_2349', 'sub_2355', 'sub_2398', 'sub_2411', 'sub_2444', 'sub_2452', 'sub_2454', 'sub_2464', 'sub_2473', 'sub_2474', 'sub_2492', 'sub_25', 'sub_2500', 'sub_2511', \n",
    "          'sub_2521', 'sub_2554', 'sub_2566', 'sub_2572', 'sub_270', 'sub_2717', 'sub_2720', 'sub_2723', 'sub_2755', 'sub_277', 'sub_2771', 'sub_2785', 'sub_2791', 'sub_2816', 'sub_2821', 'sub_2847', \n",
    "          'sub_2876', 'sub_2909', 'sub_297', 'sub_2999', 'sub_301', 'sub_3025', 'sub_305', 'sub_3053', 'sub_3056', 'sub_3061', 'sub_3093', 'sub_3099', 'sub_3101', 'sub_3113', 'sub_3165', 'sub_3173', \n",
    "          'sub_3195', 'sub_3198', 'sub_3207', 'sub_3211', 'sub_323', 'sub_3254', 'sub_3292', 'sub_3306', 'sub_3308', 'sub_332', 'sub_3349', 'sub_3389', 'sub_3403', 'sub_3434', 'sub_344', 'sub_3444', \n",
    "          'sub_3455', 'sub_3485', 'sub_3491', 'sub_3494', 'sub_3501', 'sub_353', 'sub_3532', 'sub_3596', 'sub_3628', 'sub_364', 'sub_3643', 'sub_3655', 'sub_3661', 'sub_3757', 'sub_3772', 'sub_3790', \n",
    "          'sub_38', 'sub_381', 'sub_3841', 'sub_3852', 'sub_3853', 'sub_3885', 'sub_3902', 'sub_3920', 'sub_3927', 'sub_3933', 'sub_3945', 'sub_395', 'sub_3956', 'sub_396', 'sub_3960', 'sub_3962', \n",
    "          'sub_3964', 'sub_398', 'sub_3987', 'sub_4009', 'sub_4023', 'sub_4045', 'sub_4054', 'sub_4061', 'sub_408', 'sub_4093', 'sub_4135', 'sub_415', 'sub_4159', 'sub_4173', 'sub_4176', 'sub_4182', \n",
    "          'sub_4226', 'sub_4231', 'sub_4269', 'sub_4299', 'sub_43', 'sub_434', 'sub_4344', 'sub_4362', 'sub_4364', 'sub_4382', 'sub_4384', 'sub_4387', 'sub_4389', 'sub_44', 'sub_440', 'sub_4401', \n",
    "          'sub_4406', 'sub_4407', 'sub_4408', 'sub_4409', 'sub_4439', 'sub_4441', 'sub_4461', 'sub_4464', 'sub_4480', 'sub_4499', 'sub_451', 'sub_4524', 'sub_453', 'sub_4565', 'sub_4576', 'sub_4585', \n",
    "          'sub_4616', 'sub_4618', 'sub_4636', 'sub_4649', 'sub_4653', 'sub_4659', 'sub_4679', 'sub_468', 'sub_4686', 'sub_4687', 'sub_47', 'sub_4701', 'sub_4708', 'sub_4734', 'sub_4740', 'sub_4755', \n",
    "          'sub_4766', 'sub_478', 'sub_4782', 'sub_4811', 'sub_4825', 'sub_4826', 'sub_4835', 'sub_4841', 'sub_4851', 'sub_4890', 'sub_4892', 'sub_49', 'sub_4906', 'sub_4929', 'sub_4933', 'sub_4936', \n",
    "          'sub_4966', 'sub_4974', 'sub_4975', 'sub_4984', 'sub_4991', 'sub_4992', 'sub_4999', 'sub_501', 'sub_510', 'sub_52', 'sub_522', 'sub_526', 'sub_56', 'sub_561', 'sub_562', 'sub_6', 'sub_62', \n",
    "          'sub_628', 'sub_63', 'sub_638', 'sub_65', 'sub_655', 'sub_66', 'sub_664', 'sub_666', 'sub_67', 'sub_676', 'sub_685', 'sub_69', 'sub_70', 'sub_717', 'sub_72', 'sub_73', 'sub_741', 'sub_788', \n",
    "          'sub_80', 'sub_807', 'sub_813', 'sub_871', 'sub_903', 'sub_91', 'sub_959', 'sub_964', 'sub_986']\n",
    "\n",
    "train_data = train_data[useful + [TARGET_NAME]]\n",
    "test_data = test_data[useful]\n",
    "\n",
    "train_data.shape, test_data.shape"
   ]
  },
  {
   "cell_type": "markdown",
   "metadata": {},
   "source": [
    "# 2. AutoML"
   ]
  },
  {
   "cell_type": "markdown",
   "metadata": {},
   "source": [
    "## 2.1 Setup"
   ]
  },
  {
   "cell_type": "markdown",
   "metadata": {},
   "source": [
    "### 2.1.1 Task"
   ]
  },
  {
   "cell_type": "code",
   "execution_count": 12,
   "metadata": {},
   "outputs": [],
   "source": [
    "task = Task('binary', metric='logloss')"
   ]
  },
  {
   "cell_type": "markdown",
   "metadata": {},
   "source": [
    "### 2.1.2 Feature Role"
   ]
  },
  {
   "cell_type": "code",
   "execution_count": 13,
   "metadata": {},
   "outputs": [],
   "source": [
    "roles = {'target' : TARGET_NAME}"
   ]
  },
  {
   "cell_type": "markdown",
   "metadata": {},
   "source": [
    "### 2.1.3 Model"
   ]
  },
  {
   "cell_type": "code",
   "execution_count": 14,
   "metadata": {},
   "outputs": [],
   "source": [
    "models = ['linear_l2', 'gbm', 'lgb', 'dense', 'mlp']"
   ]
  },
  {
   "cell_type": "code",
   "execution_count": 15,
   "metadata": {},
   "outputs": [],
   "source": [
    "automl = TabularAutoML(\n",
    "        task=task, \n",
    "        timeout=TIMEOUT, \n",
    "        cpu_limit=N_THREADS, \n",
    "        selection_params= {'mode':2, 'feature_group_size':50, 'select_algos':models},\n",
    "        reader_params = {'n_jobs':N_THREADS}\n",
    "    )"
   ]
  },
  {
   "cell_type": "code",
   "execution_count": 16,
   "metadata": {},
   "outputs": [
    {
     "name": "stdout",
     "output_type": "stream",
     "text": [
      "[15:34:12] Stdout logging level is INFO.\n",
      "[15:34:12] Copying TaskTimer may affect the parent PipelineTimer, so copy will create new unlimited TaskTimer\n",
      "[15:34:12] Task: binary\n",
      "\n",
      "[15:34:12] Start automl preset with listed constraints:\n",
      "[15:34:13] - time: 36000.00 seconds\n",
      "[15:34:13] - CPU: 2 cores\n",
      "[15:34:13] - memory: 16 GB\n",
      "\n",
      "[15:34:13] \u001b[1mTrain data shape: (20000, 300)\u001b[0m\n",
      "\n",
      "[15:34:26] Layer \u001b[1m1\u001b[0m train process start. Time left 35986.65 secs\n",
      "[15:34:50] \u001b[1mSelector_LightGBM\u001b[0m fitting and predicting completed\n",
      "[15:35:15] \u001b[1mSelector_LightGBM\u001b[0m fitting and predicting completed\n",
      "[15:35:31] \u001b[1mSelector_LightGBM\u001b[0m fitting and predicting completed\n",
      "[15:35:39] \u001b[1mSelector_LightGBM\u001b[0m fitting and predicting completed\n",
      "[15:35:50] \u001b[1mSelector_LightGBM\u001b[0m fitting and predicting completed\n",
      "[15:36:01] \u001b[1mSelector_LightGBM\u001b[0m fitting and predicting completed\n",
      "[15:36:13] \u001b[1mSelector_LightGBM\u001b[0m fitting and predicting completed\n",
      "[15:36:25] \u001b[1mSelector_LightGBM\u001b[0m fitting and predicting completed\n",
      "[15:36:25] Start fitting \u001b[1mLvl_0_Pipe_0_Mod_0_LinearL2\u001b[0m ...\n",
      "[15:36:30] Fitting \u001b[1mLvl_0_Pipe_0_Mod_0_LinearL2\u001b[0m finished. score = \u001b[1m-0.5312024466666975\u001b[0m\n",
      "[15:36:30] \u001b[1mLvl_0_Pipe_0_Mod_0_LinearL2\u001b[0m fitting and predicting completed\n",
      "[15:36:30] Time left 35862.11 secs\n",
      "\n",
      "[15:36:30] Start fitting \u001b[1mLvl_0_Pipe_1_Mod_0_LightGBM\u001b[0m ...\n",
      "[15:36:58] Fitting \u001b[1mLvl_0_Pipe_1_Mod_0_LightGBM\u001b[0m finished. score = \u001b[1m-0.5204534392068395\u001b[0m\n",
      "[15:36:58] \u001b[1mLvl_0_Pipe_1_Mod_0_LightGBM\u001b[0m fitting and predicting completed\n",
      "[15:36:58] Start hyperparameters optimization for \u001b[1mLvl_0_Pipe_1_Mod_1_Tuned_LightGBM\u001b[0m ... Time budget is 300.00 secs\n",
      "[15:42:03] Hyperparameters optimization for \u001b[1mLvl_0_Pipe_1_Mod_1_Tuned_LightGBM\u001b[0m completed\n",
      "[15:42:03] Start fitting \u001b[1mLvl_0_Pipe_1_Mod_1_Tuned_LightGBM\u001b[0m ...\n",
      "[15:42:12] Fitting \u001b[1mLvl_0_Pipe_1_Mod_1_Tuned_LightGBM\u001b[0m finished. score = \u001b[1m-0.5210260894370614\u001b[0m\n",
      "[15:42:12] \u001b[1mLvl_0_Pipe_1_Mod_1_Tuned_LightGBM\u001b[0m fitting and predicting completed\n",
      "[15:42:12] Start fitting \u001b[1mLvl_0_Pipe_1_Mod_2_CatBoost\u001b[0m ...\n",
      "[15:42:41] Fitting \u001b[1mLvl_0_Pipe_1_Mod_2_CatBoost\u001b[0m finished. score = \u001b[1m-0.522972318919003\u001b[0m\n",
      "[15:42:41] \u001b[1mLvl_0_Pipe_1_Mod_2_CatBoost\u001b[0m fitting and predicting completed\n",
      "[15:42:41] Start hyperparameters optimization for \u001b[1mLvl_0_Pipe_1_Mod_3_Tuned_CatBoost\u001b[0m ... Time budget is 300.00 secs\n",
      "[15:47:46] Hyperparameters optimization for \u001b[1mLvl_0_Pipe_1_Mod_3_Tuned_CatBoost\u001b[0m completed\n",
      "[15:47:46] Start fitting \u001b[1mLvl_0_Pipe_1_Mod_3_Tuned_CatBoost\u001b[0m ...\n",
      "[15:48:27] Fitting \u001b[1mLvl_0_Pipe_1_Mod_3_Tuned_CatBoost\u001b[0m finished. score = \u001b[1m-0.5221379379299004\u001b[0m\n",
      "[15:48:27] \u001b[1mLvl_0_Pipe_1_Mod_3_Tuned_CatBoost\u001b[0m fitting and predicting completed\n",
      "[15:48:27] Time left 35145.45 secs\n",
      "\n",
      "[15:48:27] \u001b[1mLayer 1 training completed.\u001b[0m\n",
      "\n",
      "[15:48:27] Blending: optimization starts with equal weights and score \u001b[1m-0.5206037438094383\u001b[0m\n",
      "[15:48:27] Blending: iteration \u001b[1m0\u001b[0m: score = \u001b[1m-0.5194131243763259\u001b[0m, weights = \u001b[1m[0.         0.46227196 0.31895283 0.11032113 0.10845412]\u001b[0m\n",
      "[15:48:27] Blending: iteration \u001b[1m1\u001b[0m: score = \u001b[1m-0.5194104233582504\u001b[0m, weights = \u001b[1m[0.         0.47349843 0.30026102 0.1311305  0.09511004]\u001b[0m\n",
      "[15:48:28] Blending: iteration \u001b[1m2\u001b[0m: score = \u001b[1m-0.5194101794148329\u001b[0m, weights = \u001b[1m[0.         0.47139215 0.30157748 0.1368568  0.09017362]\u001b[0m\n",
      "[15:48:28] Blending: iteration \u001b[1m3\u001b[0m: score = \u001b[1m-0.519410125552211\u001b[0m, weights = \u001b[1m[0.         0.47077924 0.3013234  0.13974647 0.08815089]\u001b[0m\n",
      "[15:48:28] Blending: iteration \u001b[1m4\u001b[0m: score = \u001b[1m-0.519410115065379\u001b[0m, weights = \u001b[1m[0.         0.4705665  0.30123702 0.14077549 0.08742102]\u001b[0m\n",
      "[15:48:28] \u001b[1mAutoml preset training completed in 855.49 seconds\u001b[0m\n",
      "\n",
      "[15:48:28] Model description:\n",
      "Final prediction for new objects (level 0) = \n",
      "\t 0.47057 * (5 averaged models Lvl_0_Pipe_1_Mod_0_LightGBM) +\n",
      "\t 0.30124 * (5 averaged models Lvl_0_Pipe_1_Mod_1_Tuned_LightGBM) +\n",
      "\t 0.14078 * (5 averaged models Lvl_0_Pipe_1_Mod_2_CatBoost) +\n",
      "\t 0.08742 * (5 averaged models Lvl_0_Pipe_1_Mod_3_Tuned_CatBoost) \n",
      "\n"
     ]
    }
   ],
   "source": [
    "oof_pred = automl.fit_predict(train_data, roles=roles, verbose=1)"
   ]
  },
  {
   "cell_type": "code",
   "execution_count": 17,
   "metadata": {},
   "outputs": [
    {
     "name": "stdout",
     "output_type": "stream",
     "text": [
      "Final prediction for new objects (level 0) = \n",
      "\t 0.47057 * (5 averaged models Lvl_0_Pipe_1_Mod_0_LightGBM) +\n",
      "\t 0.30124 * (5 averaged models Lvl_0_Pipe_1_Mod_1_Tuned_LightGBM) +\n",
      "\t 0.14078 * (5 averaged models Lvl_0_Pipe_1_Mod_2_CatBoost) +\n",
      "\t 0.08742 * (5 averaged models Lvl_0_Pipe_1_Mod_3_Tuned_CatBoost) \n"
     ]
    }
   ],
   "source": [
    "print(automl.create_model_str_desc())"
   ]
  },
  {
   "cell_type": "code",
   "execution_count": 18,
   "metadata": {},
   "outputs": [
    {
     "data": {
      "text/plain": [
       "(20000, 1)"
      ]
     },
     "execution_count": 18,
     "metadata": {},
     "output_type": "execute_result"
    }
   ],
   "source": [
    "preds = automl.predict(test_data)\n",
    "\n",
    "preds.shape"
   ]
  },
  {
   "cell_type": "code",
   "execution_count": 20,
   "metadata": {},
   "outputs": [],
   "source": [
    "submission['pred'] = preds.data[:, 0]"
   ]
  },
  {
   "cell_type": "code",
   "execution_count": 23,
   "metadata": {},
   "outputs": [],
   "source": [
    "submission.set_index('id').to_csv('submission_automl.csv')"
   ]
  },
  {
   "cell_type": "code",
   "execution_count": null,
   "metadata": {},
   "outputs": [],
   "source": []
  }
 ],
 "metadata": {
  "kernelspec": {
   "display_name": "Python 3.9.15 ('automl')",
   "language": "python",
   "name": "python3"
  },
  "language_info": {
   "codemirror_mode": {
    "name": "ipython",
    "version": 3
   },
   "file_extension": ".py",
   "mimetype": "text/x-python",
   "name": "python",
   "nbconvert_exporter": "python",
   "pygments_lexer": "ipython3",
   "version": "3.9.15"
  },
  "orig_nbformat": 4,
  "vscode": {
   "interpreter": {
    "hash": "d20d86510def51f33a44b5a435d55c10102dd0bfb266b4794da87c9e55979b4e"
   }
  }
 },
 "nbformat": 4,
 "nbformat_minor": 2
}
